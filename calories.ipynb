{
 "cells": [
  {
   "cell_type": "code",
   "execution_count": 1,
   "id": "9862b023",
   "metadata": {},
   "outputs": [],
   "source": [
    "import pandas as pd\n",
    "import matplotlib.pyplot as plt"
   ]
  },
  {
   "cell_type": "code",
   "execution_count": 2,
   "id": "a565947d",
   "metadata": {},
   "outputs": [],
   "source": [
    "#Calories\n",
    "cal_df = pd.read_csv('Resources/Calories by country.csv')\n",
    "cal_df = cal_df.rename(columns={'Entity':'Country', 'Daily caloric supply (OWID based on UN FAO & historical sources)':'Daily Caloric Supply'})\n",
    "cal_df = cal_df.drop({'Code','Overweight or Obese (NCDRisC (2017))', 'Population (historical estimates)', 'Continent'}, axis=1)"
   ]
  },
  {
   "cell_type": "code",
   "execution_count": 3,
   "id": "734234a9",
   "metadata": {},
   "outputs": [
    {
     "data": {
      "text/html": [
       "<div>\n",
       "<style scoped>\n",
       "    .dataframe tbody tr th:only-of-type {\n",
       "        vertical-align: middle;\n",
       "    }\n",
       "\n",
       "    .dataframe tbody tr th {\n",
       "        vertical-align: top;\n",
       "    }\n",
       "\n",
       "    .dataframe thead th {\n",
       "        text-align: right;\n",
       "    }\n",
       "</style>\n",
       "<table border=\"1\" class=\"dataframe\">\n",
       "  <thead>\n",
       "    <tr style=\"text-align: right;\">\n",
       "      <th></th>\n",
       "      <th>Country</th>\n",
       "      <th>Year</th>\n",
       "      <th>Daily Caloric Supply</th>\n",
       "    </tr>\n",
       "  </thead>\n",
       "  <tbody>\n",
       "    <tr>\n",
       "      <th>54116</th>\n",
       "      <td>United States</td>\n",
       "      <td>2000</td>\n",
       "      <td>3755.0</td>\n",
       "    </tr>\n",
       "    <tr>\n",
       "      <th>54117</th>\n",
       "      <td>United States</td>\n",
       "      <td>2001</td>\n",
       "      <td>3707.0</td>\n",
       "    </tr>\n",
       "    <tr>\n",
       "      <th>54118</th>\n",
       "      <td>United States</td>\n",
       "      <td>2002</td>\n",
       "      <td>3783.0</td>\n",
       "    </tr>\n",
       "    <tr>\n",
       "      <th>54119</th>\n",
       "      <td>United States</td>\n",
       "      <td>2003</td>\n",
       "      <td>3777.0</td>\n",
       "    </tr>\n",
       "    <tr>\n",
       "      <th>54120</th>\n",
       "      <td>United States</td>\n",
       "      <td>2004</td>\n",
       "      <td>3809.0</td>\n",
       "    </tr>\n",
       "  </tbody>\n",
       "</table>\n",
       "</div>"
      ],
      "text/plain": [
       "             Country  Year  Daily Caloric Supply\n",
       "54116  United States  2000                3755.0\n",
       "54117  United States  2001                3707.0\n",
       "54118  United States  2002                3783.0\n",
       "54119  United States  2003                3777.0\n",
       "54120  United States  2004                3809.0"
      ]
     },
     "execution_count": 3,
     "metadata": {},
     "output_type": "execute_result"
    }
   ],
   "source": [
    "#US Caloric Supplies\n",
    "uscal_df = cal_df.loc[(cal_df['Country'] == 'United States') &(cal_df['Year'] >= 2000)]\n",
    "uscal_df.head()"
   ]
  },
  {
   "cell_type": "code",
   "execution_count": 4,
   "id": "ed22d79b",
   "metadata": {},
   "outputs": [],
   "source": [
    "uscal_df.to_csv('Daily Caloric Supply CSV/US DCS.csv')"
   ]
  },
  {
   "cell_type": "code",
   "execution_count": 5,
   "id": "ac8dd517",
   "metadata": {},
   "outputs": [
    {
     "data": {
      "text/html": [
       "<div>\n",
       "<style scoped>\n",
       "    .dataframe tbody tr th:only-of-type {\n",
       "        vertical-align: middle;\n",
       "    }\n",
       "\n",
       "    .dataframe tbody tr th {\n",
       "        vertical-align: top;\n",
       "    }\n",
       "\n",
       "    .dataframe thead th {\n",
       "        text-align: right;\n",
       "    }\n",
       "</style>\n",
       "<table border=\"1\" class=\"dataframe\">\n",
       "  <thead>\n",
       "    <tr style=\"text-align: right;\">\n",
       "      <th></th>\n",
       "      <th>Country</th>\n",
       "      <th>Year</th>\n",
       "      <th>Daily Caloric Supply</th>\n",
       "    </tr>\n",
       "  </thead>\n",
       "  <tbody>\n",
       "    <tr>\n",
       "      <th>36424</th>\n",
       "      <td>Niger</td>\n",
       "      <td>2000</td>\n",
       "      <td>2328.0</td>\n",
       "    </tr>\n",
       "    <tr>\n",
       "      <th>36425</th>\n",
       "      <td>Niger</td>\n",
       "      <td>2001</td>\n",
       "      <td>2341.0</td>\n",
       "    </tr>\n",
       "    <tr>\n",
       "      <th>36426</th>\n",
       "      <td>Niger</td>\n",
       "      <td>2002</td>\n",
       "      <td>2309.0</td>\n",
       "    </tr>\n",
       "    <tr>\n",
       "      <th>36427</th>\n",
       "      <td>Niger</td>\n",
       "      <td>2003</td>\n",
       "      <td>2401.0</td>\n",
       "    </tr>\n",
       "    <tr>\n",
       "      <th>36428</th>\n",
       "      <td>Niger</td>\n",
       "      <td>2004</td>\n",
       "      <td>2453.0</td>\n",
       "    </tr>\n",
       "  </tbody>\n",
       "</table>\n",
       "</div>"
      ],
      "text/plain": [
       "      Country  Year  Daily Caloric Supply\n",
       "36424   Niger  2000                2328.0\n",
       "36425   Niger  2001                2341.0\n",
       "36426   Niger  2002                2309.0\n",
       "36427   Niger  2003                2401.0\n",
       "36428   Niger  2004                2453.0"
      ]
     },
     "execution_count": 5,
     "metadata": {},
     "output_type": "execute_result"
    }
   ],
   "source": [
    "#Niger Caloric Supplies\n",
    "nigcal_df = cal_df.loc[(cal_df['Country'] == 'Niger') &(cal_df['Year'] >= 2000)]\n",
    "nigcal_df.head()"
   ]
  },
  {
   "cell_type": "code",
   "execution_count": 6,
   "id": "df3400b8",
   "metadata": {},
   "outputs": [],
   "source": [
    "nigcal_df.to_csv('Daily Caloric Supply CSV/Niger DCS.csv')"
   ]
  },
  {
   "cell_type": "code",
   "execution_count": 7,
   "id": "0af9aa64",
   "metadata": {},
   "outputs": [
    {
     "data": {
      "text/html": [
       "<div>\n",
       "<style scoped>\n",
       "    .dataframe tbody tr th:only-of-type {\n",
       "        vertical-align: middle;\n",
       "    }\n",
       "\n",
       "    .dataframe tbody tr th {\n",
       "        vertical-align: top;\n",
       "    }\n",
       "\n",
       "    .dataframe thead th {\n",
       "        text-align: right;\n",
       "    }\n",
       "</style>\n",
       "<table border=\"1\" class=\"dataframe\">\n",
       "  <thead>\n",
       "    <tr style=\"text-align: right;\">\n",
       "      <th></th>\n",
       "      <th>Country</th>\n",
       "      <th>Year</th>\n",
       "      <th>Daily Caloric Supply</th>\n",
       "    </tr>\n",
       "  </thead>\n",
       "  <tbody>\n",
       "    <tr>\n",
       "      <th>9501</th>\n",
       "      <td>Central African Republic</td>\n",
       "      <td>2000</td>\n",
       "      <td>1983.0</td>\n",
       "    </tr>\n",
       "    <tr>\n",
       "      <th>9502</th>\n",
       "      <td>Central African Republic</td>\n",
       "      <td>2001</td>\n",
       "      <td>1988.0</td>\n",
       "    </tr>\n",
       "    <tr>\n",
       "      <th>9503</th>\n",
       "      <td>Central African Republic</td>\n",
       "      <td>2002</td>\n",
       "      <td>1996.0</td>\n",
       "    </tr>\n",
       "    <tr>\n",
       "      <th>9504</th>\n",
       "      <td>Central African Republic</td>\n",
       "      <td>2003</td>\n",
       "      <td>1966.0</td>\n",
       "    </tr>\n",
       "    <tr>\n",
       "      <th>9505</th>\n",
       "      <td>Central African Republic</td>\n",
       "      <td>2004</td>\n",
       "      <td>1989.0</td>\n",
       "    </tr>\n",
       "  </tbody>\n",
       "</table>\n",
       "</div>"
      ],
      "text/plain": [
       "                       Country  Year  Daily Caloric Supply\n",
       "9501  Central African Republic  2000                1983.0\n",
       "9502  Central African Republic  2001                1988.0\n",
       "9503  Central African Republic  2002                1996.0\n",
       "9504  Central African Republic  2003                1966.0\n",
       "9505  Central African Republic  2004                1989.0"
      ]
     },
     "execution_count": 7,
     "metadata": {},
     "output_type": "execute_result"
    }
   ],
   "source": [
    "#CAR Caloric Supplies\n",
    "carcal_df = cal_df.loc[(cal_df['Country'] == 'Central African Republic') &(cal_df['Year'] >= 2000)]\n",
    "carcal_df.head()"
   ]
  },
  {
   "cell_type": "code",
   "execution_count": 8,
   "id": "70d30ff6",
   "metadata": {},
   "outputs": [],
   "source": [
    "carcal_df.to_csv('Daily Caloric Supply CSV/CAR DCS.csv')"
   ]
  },
  {
   "cell_type": "code",
   "execution_count": 9,
   "id": "576f5ecc",
   "metadata": {},
   "outputs": [
    {
     "data": {
      "text/html": [
       "<div>\n",
       "<style scoped>\n",
       "    .dataframe tbody tr th:only-of-type {\n",
       "        vertical-align: middle;\n",
       "    }\n",
       "\n",
       "    .dataframe tbody tr th {\n",
       "        vertical-align: top;\n",
       "    }\n",
       "\n",
       "    .dataframe thead th {\n",
       "        text-align: right;\n",
       "    }\n",
       "</style>\n",
       "<table border=\"1\" class=\"dataframe\">\n",
       "  <thead>\n",
       "    <tr style=\"text-align: right;\">\n",
       "      <th></th>\n",
       "      <th>Country</th>\n",
       "      <th>Year</th>\n",
       "      <th>Daily Caloric Supply</th>\n",
       "    </tr>\n",
       "  </thead>\n",
       "  <tbody>\n",
       "    <tr>\n",
       "      <th>11039</th>\n",
       "      <td>Congo</td>\n",
       "      <td>2000</td>\n",
       "      <td>2177.0</td>\n",
       "    </tr>\n",
       "    <tr>\n",
       "      <th>11040</th>\n",
       "      <td>Congo</td>\n",
       "      <td>2001</td>\n",
       "      <td>2232.0</td>\n",
       "    </tr>\n",
       "    <tr>\n",
       "      <th>11041</th>\n",
       "      <td>Congo</td>\n",
       "      <td>2002</td>\n",
       "      <td>2259.0</td>\n",
       "    </tr>\n",
       "    <tr>\n",
       "      <th>11042</th>\n",
       "      <td>Congo</td>\n",
       "      <td>2003</td>\n",
       "      <td>2236.0</td>\n",
       "    </tr>\n",
       "    <tr>\n",
       "      <th>11043</th>\n",
       "      <td>Congo</td>\n",
       "      <td>2004</td>\n",
       "      <td>2263.0</td>\n",
       "    </tr>\n",
       "  </tbody>\n",
       "</table>\n",
       "</div>"
      ],
      "text/plain": [
       "      Country  Year  Daily Caloric Supply\n",
       "11039   Congo  2000                2177.0\n",
       "11040   Congo  2001                2232.0\n",
       "11041   Congo  2002                2259.0\n",
       "11042   Congo  2003                2236.0\n",
       "11043   Congo  2004                2263.0"
      ]
     },
     "execution_count": 9,
     "metadata": {},
     "output_type": "execute_result"
    }
   ],
   "source": [
    "#Congo Caloric Supplies\n",
    "concal_df = cal_df.loc[(cal_df['Country'] == 'Congo') &(cal_df['Year'] >= 2000)]\n",
    "concal_df.head()"
   ]
  },
  {
   "cell_type": "code",
   "execution_count": 10,
   "id": "a239303a",
   "metadata": {},
   "outputs": [],
   "source": [
    "concal_df.to_csv('Daily Caloric Supply CSV/Congo DCS.csv')"
   ]
  }
 ],
 "metadata": {
  "kernelspec": {
   "display_name": "Python 3 (ipykernel)",
   "language": "python",
   "name": "python3"
  },
  "language_info": {
   "codemirror_mode": {
    "name": "ipython",
    "version": 3
   },
   "file_extension": ".py",
   "mimetype": "text/x-python",
   "name": "python",
   "nbconvert_exporter": "python",
   "pygments_lexer": "ipython3",
   "version": "3.9.12"
  }
 },
 "nbformat": 4,
 "nbformat_minor": 5
}
