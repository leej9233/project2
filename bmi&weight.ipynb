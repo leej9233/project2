{
 "cells": [
  {
   "cell_type": "code",
   "execution_count": 1,
   "id": "9877522e",
   "metadata": {},
   "outputs": [],
   "source": [
    "import pandas as pd\n",
    "import matplotlib.pyplot as plt"
   ]
  },
  {
   "cell_type": "code",
   "execution_count": 2,
   "id": "130bae72",
   "metadata": {},
   "outputs": [],
   "source": [
    "#BMI Table Extract\n",
    "url = 'https://www.cdc.gov/obesity/data/prevalence-maps.html'"
   ]
  },
  {
   "cell_type": "code",
   "execution_count": 3,
   "id": "d5837515",
   "metadata": {},
   "outputs": [
    {
     "data": {
      "text/html": [
       "<div>\n",
       "<style scoped>\n",
       "    .dataframe tbody tr th:only-of-type {\n",
       "        vertical-align: middle;\n",
       "    }\n",
       "\n",
       "    .dataframe tbody tr th {\n",
       "        vertical-align: top;\n",
       "    }\n",
       "\n",
       "    .dataframe thead th {\n",
       "        text-align: right;\n",
       "    }\n",
       "</style>\n",
       "<table border=\"1\" class=\"dataframe\">\n",
       "  <thead>\n",
       "    <tr style=\"text-align: right;\">\n",
       "      <th></th>\n",
       "      <th>BMI</th>\n",
       "      <th>Weight Status</th>\n",
       "    </tr>\n",
       "  </thead>\n",
       "  <tbody>\n",
       "    <tr>\n",
       "      <th>0</th>\n",
       "      <td>Below 18.5</td>\n",
       "      <td>Underweight</td>\n",
       "    </tr>\n",
       "    <tr>\n",
       "      <th>1</th>\n",
       "      <td>18.5–24.9</td>\n",
       "      <td>Healthy Weight</td>\n",
       "    </tr>\n",
       "    <tr>\n",
       "      <th>2</th>\n",
       "      <td>25.0–29.9</td>\n",
       "      <td>Overweight</td>\n",
       "    </tr>\n",
       "    <tr>\n",
       "      <th>3</th>\n",
       "      <td>30.0 and Above</td>\n",
       "      <td>Obesity</td>\n",
       "    </tr>\n",
       "  </tbody>\n",
       "</table>\n",
       "</div>"
      ],
      "text/plain": [
       "              BMI   Weight Status\n",
       "0      Below 18.5     Underweight\n",
       "1       18.5–24.9  Healthy Weight\n",
       "2       25.0–29.9      Overweight\n",
       "3  30.0 and Above         Obesity"
      ]
     },
     "execution_count": 3,
     "metadata": {},
     "output_type": "execute_result"
    }
   ],
   "source": [
    "bmi_table = pd.read_html(url)\n",
    "bmi_df = pd.DataFrame(bmi_table[0])\n",
    "bmi_df"
   ]
  },
  {
   "cell_type": "code",
   "execution_count": 4,
   "id": "fe872d6c",
   "metadata": {},
   "outputs": [],
   "source": [
    "#Convert BMI Table\n",
    "def convert_bmi(number):\n",
    "    if number <18.5:\n",
    "        return 'Underweight'\n",
    "    elif number >= 18.5 and number < 25:\n",
    "        return 'Healthy Weight'\n",
    "    elif number >= 25 and number < 30:\n",
    "        return 'Overweight'\n",
    "    elif number > 30:\n",
    "        return 'Obesity'\n",
    "    else:\n",
    "        return 'Please check your BMI Value again'"
   ]
  },
  {
   "cell_type": "code",
   "execution_count": 5,
   "id": "8d6ff6ba",
   "metadata": {},
   "outputs": [],
   "source": [
    "#Convert Country Table\n",
    "def convert_c(country):\n",
    "    if country == 'United States':\n",
    "        return 1\n",
    "    elif country == 'Central African Republic':\n",
    "        return 2\n",
    "    elif country == 'Congo':\n",
    "        return 3\n",
    "    elif country == 'Niger':\n",
    "        return 4\n",
    "    else:\n",
    "        return 'Please check the Country Code'"
   ]
  },
  {
   "cell_type": "markdown",
   "id": "9fb8ddcb",
   "metadata": {},
   "source": [
    "# MALE"
   ]
  },
  {
   "cell_type": "code",
   "execution_count": 6,
   "id": "a5313d20",
   "metadata": {},
   "outputs": [],
   "source": [
    "#Male DataFrame\n",
    "male_df = pd.read_csv('Resources/Male BMI by country.csv')\n",
    "male_df = male_df.rename(columns={'Entity':'Country', 'Mean BMI (male)':'Mean BMI'})\n",
    "male_df = male_df.drop('Code', axis=1)\n",
    "male_df['CountryID'] = male_df['Country'].map(lambda x: convert_c(x))\n",
    "male_df['Weight Status'] = male_df['Mean BMI'].map(lambda x: convert_bmi(x))"
   ]
  },
  {
   "cell_type": "markdown",
   "id": "b02d032c",
   "metadata": {},
   "source": [
    "United States (Male)"
   ]
  },
  {
   "cell_type": "code",
   "execution_count": 7,
   "id": "9ff7a0cb",
   "metadata": {
    "scrolled": true
   },
   "outputs": [
    {
     "data": {
      "text/html": [
       "<div>\n",
       "<style scoped>\n",
       "    .dataframe tbody tr th:only-of-type {\n",
       "        vertical-align: middle;\n",
       "    }\n",
       "\n",
       "    .dataframe tbody tr th {\n",
       "        vertical-align: top;\n",
       "    }\n",
       "\n",
       "    .dataframe thead th {\n",
       "        text-align: right;\n",
       "    }\n",
       "</style>\n",
       "<table border=\"1\" class=\"dataframe\">\n",
       "  <thead>\n",
       "    <tr style=\"text-align: right;\">\n",
       "      <th></th>\n",
       "      <th>CountryID</th>\n",
       "      <th>Year</th>\n",
       "      <th>Mean BMI</th>\n",
       "      <th>Weight Status</th>\n",
       "    </tr>\n",
       "  </thead>\n",
       "  <tbody>\n",
       "    <tr>\n",
       "      <th>8425</th>\n",
       "      <td>1</td>\n",
       "      <td>2000</td>\n",
       "      <td>27.761707</td>\n",
       "      <td>Overweight</td>\n",
       "    </tr>\n",
       "    <tr>\n",
       "      <th>8426</th>\n",
       "      <td>1</td>\n",
       "      <td>2001</td>\n",
       "      <td>27.885244</td>\n",
       "      <td>Overweight</td>\n",
       "    </tr>\n",
       "    <tr>\n",
       "      <th>8427</th>\n",
       "      <td>1</td>\n",
       "      <td>2002</td>\n",
       "      <td>28.004864</td>\n",
       "      <td>Overweight</td>\n",
       "    </tr>\n",
       "    <tr>\n",
       "      <th>8428</th>\n",
       "      <td>1</td>\n",
       "      <td>2003</td>\n",
       "      <td>28.120228</td>\n",
       "      <td>Overweight</td>\n",
       "    </tr>\n",
       "    <tr>\n",
       "      <th>8429</th>\n",
       "      <td>1</td>\n",
       "      <td>2004</td>\n",
       "      <td>28.230635</td>\n",
       "      <td>Overweight</td>\n",
       "    </tr>\n",
       "  </tbody>\n",
       "</table>\n",
       "</div>"
      ],
      "text/plain": [
       "     CountryID  Year   Mean BMI Weight Status\n",
       "8425         1  2000  27.761707    Overweight\n",
       "8426         1  2001  27.885244    Overweight\n",
       "8427         1  2002  28.004864    Overweight\n",
       "8428         1  2003  28.120228    Overweight\n",
       "8429         1  2004  28.230635    Overweight"
      ]
     },
     "execution_count": 7,
     "metadata": {},
     "output_type": "execute_result"
    }
   ],
   "source": [
    "#US Male Mean BMI\n",
    "usm_df = male_df.loc[(male_df['Country'] == 'United States') &(male_df['Year'] >= 2000)]\n",
    "usm_df = usm_df[['CountryID', 'Year', 'Mean BMI', 'Weight Status']]\n",
    "usm_df.head()"
   ]
  },
  {
   "cell_type": "code",
   "execution_count": 8,
   "id": "1af43084",
   "metadata": {},
   "outputs": [],
   "source": [
    "usm_df.to_csv('BMI&Weight Status CSV/US Male BMI&Weight Status.csv', index = False)"
   ]
  },
  {
   "cell_type": "markdown",
   "id": "9dcba859",
   "metadata": {},
   "source": [
    "Niger (Male)"
   ]
  },
  {
   "cell_type": "code",
   "execution_count": 9,
   "id": "4cad6a85",
   "metadata": {},
   "outputs": [
    {
     "data": {
      "text/html": [
       "<div>\n",
       "<style scoped>\n",
       "    .dataframe tbody tr th:only-of-type {\n",
       "        vertical-align: middle;\n",
       "    }\n",
       "\n",
       "    .dataframe tbody tr th {\n",
       "        vertical-align: top;\n",
       "    }\n",
       "\n",
       "    .dataframe thead th {\n",
       "        text-align: right;\n",
       "    }\n",
       "</style>\n",
       "<table border=\"1\" class=\"dataframe\">\n",
       "  <thead>\n",
       "    <tr style=\"text-align: right;\">\n",
       "      <th></th>\n",
       "      <th>CountryID</th>\n",
       "      <th>Year</th>\n",
       "      <th>Mean BMI</th>\n",
       "      <th>Weight Status</th>\n",
       "    </tr>\n",
       "  </thead>\n",
       "  <tbody>\n",
       "    <tr>\n",
       "      <th>5653</th>\n",
       "      <td>4</td>\n",
       "      <td>2000</td>\n",
       "      <td>20.620045</td>\n",
       "      <td>Healthy Weight</td>\n",
       "    </tr>\n",
       "    <tr>\n",
       "      <th>5654</th>\n",
       "      <td>4</td>\n",
       "      <td>2001</td>\n",
       "      <td>20.693784</td>\n",
       "      <td>Healthy Weight</td>\n",
       "    </tr>\n",
       "    <tr>\n",
       "      <th>5655</th>\n",
       "      <td>4</td>\n",
       "      <td>2002</td>\n",
       "      <td>20.767602</td>\n",
       "      <td>Healthy Weight</td>\n",
       "    </tr>\n",
       "    <tr>\n",
       "      <th>5656</th>\n",
       "      <td>4</td>\n",
       "      <td>2003</td>\n",
       "      <td>20.841088</td>\n",
       "      <td>Healthy Weight</td>\n",
       "    </tr>\n",
       "    <tr>\n",
       "      <th>5657</th>\n",
       "      <td>4</td>\n",
       "      <td>2004</td>\n",
       "      <td>20.912538</td>\n",
       "      <td>Healthy Weight</td>\n",
       "    </tr>\n",
       "  </tbody>\n",
       "</table>\n",
       "</div>"
      ],
      "text/plain": [
       "     CountryID  Year   Mean BMI   Weight Status\n",
       "5653         4  2000  20.620045  Healthy Weight\n",
       "5654         4  2001  20.693784  Healthy Weight\n",
       "5655         4  2002  20.767602  Healthy Weight\n",
       "5656         4  2003  20.841088  Healthy Weight\n",
       "5657         4  2004  20.912538  Healthy Weight"
      ]
     },
     "execution_count": 9,
     "metadata": {},
     "output_type": "execute_result"
    }
   ],
   "source": [
    "#Niger Male Mean BMI\n",
    "nig_m_df = male_df.loc[(male_df['Country'] == 'Niger') &(male_df['Year'] >= 2000)]\n",
    "nig_m_df = nig_m_df[['CountryID', 'Year', 'Mean BMI', 'Weight Status']]\n",
    "nig_m_df.head()"
   ]
  },
  {
   "cell_type": "code",
   "execution_count": 10,
   "id": "a8d1ae5b",
   "metadata": {},
   "outputs": [],
   "source": [
    "nig_m_df.to_csv('BMI&Weight Status CSV/Niger Male BMI&Weight Status.csv', index = False)"
   ]
  },
  {
   "cell_type": "markdown",
   "id": "d68285be",
   "metadata": {},
   "source": [
    "Central African Republic (Male)"
   ]
  },
  {
   "cell_type": "code",
   "execution_count": 11,
   "id": "b2637b3e",
   "metadata": {},
   "outputs": [
    {
     "data": {
      "text/html": [
       "<div>\n",
       "<style scoped>\n",
       "    .dataframe tbody tr th:only-of-type {\n",
       "        vertical-align: middle;\n",
       "    }\n",
       "\n",
       "    .dataframe tbody tr th {\n",
       "        vertical-align: top;\n",
       "    }\n",
       "\n",
       "    .dataframe thead th {\n",
       "        text-align: right;\n",
       "    }\n",
       "</style>\n",
       "<table border=\"1\" class=\"dataframe\">\n",
       "  <thead>\n",
       "    <tr style=\"text-align: right;\">\n",
       "      <th></th>\n",
       "      <th>CountryID</th>\n",
       "      <th>Year</th>\n",
       "      <th>Mean BMI</th>\n",
       "      <th>Weight Status</th>\n",
       "    </tr>\n",
       "  </thead>\n",
       "  <tbody>\n",
       "    <tr>\n",
       "      <th>1453</th>\n",
       "      <td>2</td>\n",
       "      <td>2000</td>\n",
       "      <td>21.144362</td>\n",
       "      <td>Healthy Weight</td>\n",
       "    </tr>\n",
       "    <tr>\n",
       "      <th>1454</th>\n",
       "      <td>2</td>\n",
       "      <td>2001</td>\n",
       "      <td>21.206914</td>\n",
       "      <td>Healthy Weight</td>\n",
       "    </tr>\n",
       "    <tr>\n",
       "      <th>1455</th>\n",
       "      <td>2</td>\n",
       "      <td>2002</td>\n",
       "      <td>21.270207</td>\n",
       "      <td>Healthy Weight</td>\n",
       "    </tr>\n",
       "    <tr>\n",
       "      <th>1456</th>\n",
       "      <td>2</td>\n",
       "      <td>2003</td>\n",
       "      <td>21.333382</td>\n",
       "      <td>Healthy Weight</td>\n",
       "    </tr>\n",
       "    <tr>\n",
       "      <th>1457</th>\n",
       "      <td>2</td>\n",
       "      <td>2004</td>\n",
       "      <td>21.396792</td>\n",
       "      <td>Healthy Weight</td>\n",
       "    </tr>\n",
       "  </tbody>\n",
       "</table>\n",
       "</div>"
      ],
      "text/plain": [
       "     CountryID  Year   Mean BMI   Weight Status\n",
       "1453         2  2000  21.144362  Healthy Weight\n",
       "1454         2  2001  21.206914  Healthy Weight\n",
       "1455         2  2002  21.270207  Healthy Weight\n",
       "1456         2  2003  21.333382  Healthy Weight\n",
       "1457         2  2004  21.396792  Healthy Weight"
      ]
     },
     "execution_count": 11,
     "metadata": {},
     "output_type": "execute_result"
    }
   ],
   "source": [
    "#Central African Republic Male Mean BMI\n",
    "car_m_df = male_df.loc[(male_df['Country'] == 'Central African Republic') &(male_df['Year'] >= 2000)]\n",
    "car_m_df = car_m_df[['CountryID', 'Year', 'Mean BMI', 'Weight Status']]\n",
    "car_m_df.head()"
   ]
  },
  {
   "cell_type": "code",
   "execution_count": 12,
   "id": "e12047a4",
   "metadata": {},
   "outputs": [],
   "source": [
    "car_m_df.to_csv('BMI&Weight Status CSV/CAR Male BMI&Weight Status.csv', index = False)"
   ]
  },
  {
   "cell_type": "markdown",
   "id": "ae366e40",
   "metadata": {},
   "source": [
    "Congo (Male)"
   ]
  },
  {
   "cell_type": "code",
   "execution_count": 13,
   "id": "0ec8ead4",
   "metadata": {},
   "outputs": [
    {
     "data": {
      "text/html": [
       "<div>\n",
       "<style scoped>\n",
       "    .dataframe tbody tr th:only-of-type {\n",
       "        vertical-align: middle;\n",
       "    }\n",
       "\n",
       "    .dataframe tbody tr th {\n",
       "        vertical-align: top;\n",
       "    }\n",
       "\n",
       "    .dataframe thead th {\n",
       "        text-align: right;\n",
       "    }\n",
       "</style>\n",
       "<table border=\"1\" class=\"dataframe\">\n",
       "  <thead>\n",
       "    <tr style=\"text-align: right;\">\n",
       "      <th></th>\n",
       "      <th>CountryID</th>\n",
       "      <th>Year</th>\n",
       "      <th>Mean BMI</th>\n",
       "      <th>Weight Status</th>\n",
       "    </tr>\n",
       "  </thead>\n",
       "  <tbody>\n",
       "    <tr>\n",
       "      <th>1789</th>\n",
       "      <td>3</td>\n",
       "      <td>2000</td>\n",
       "      <td>21.504071</td>\n",
       "      <td>Healthy Weight</td>\n",
       "    </tr>\n",
       "    <tr>\n",
       "      <th>1790</th>\n",
       "      <td>3</td>\n",
       "      <td>2001</td>\n",
       "      <td>21.564128</td>\n",
       "      <td>Healthy Weight</td>\n",
       "    </tr>\n",
       "    <tr>\n",
       "      <th>1791</th>\n",
       "      <td>3</td>\n",
       "      <td>2002</td>\n",
       "      <td>21.624402</td>\n",
       "      <td>Healthy Weight</td>\n",
       "    </tr>\n",
       "    <tr>\n",
       "      <th>1792</th>\n",
       "      <td>3</td>\n",
       "      <td>2003</td>\n",
       "      <td>21.685322</td>\n",
       "      <td>Healthy Weight</td>\n",
       "    </tr>\n",
       "    <tr>\n",
       "      <th>1793</th>\n",
       "      <td>3</td>\n",
       "      <td>2004</td>\n",
       "      <td>21.746773</td>\n",
       "      <td>Healthy Weight</td>\n",
       "    </tr>\n",
       "  </tbody>\n",
       "</table>\n",
       "</div>"
      ],
      "text/plain": [
       "     CountryID  Year   Mean BMI   Weight Status\n",
       "1789         3  2000  21.504071  Healthy Weight\n",
       "1790         3  2001  21.564128  Healthy Weight\n",
       "1791         3  2002  21.624402  Healthy Weight\n",
       "1792         3  2003  21.685322  Healthy Weight\n",
       "1793         3  2004  21.746773  Healthy Weight"
      ]
     },
     "execution_count": 13,
     "metadata": {},
     "output_type": "execute_result"
    }
   ],
   "source": [
    "#Congo Male Mean BMI\n",
    "con_m_df = male_df.loc[(male_df['Country'] == 'Congo') &(male_df['Year'] >= 2000)]\n",
    "con_m_df = con_m_df[['CountryID', 'Year', 'Mean BMI', 'Weight Status']]\n",
    "con_m_df.head()"
   ]
  },
  {
   "cell_type": "code",
   "execution_count": 14,
   "id": "c217df4f",
   "metadata": {},
   "outputs": [],
   "source": [
    "con_m_df.to_csv('BMI&Weight Status CSV/Congo Male BMI&Weight Status.csv', index = False)"
   ]
  },
  {
   "cell_type": "markdown",
   "id": "d8067fd6",
   "metadata": {},
   "source": [
    "# FEMALE"
   ]
  },
  {
   "cell_type": "markdown",
   "id": "4f83dc51",
   "metadata": {},
   "source": [
    "United States (Female)"
   ]
  },
  {
   "cell_type": "code",
   "execution_count": 15,
   "id": "88d0894c",
   "metadata": {},
   "outputs": [],
   "source": [
    "#Female DataFrame\n",
    "female_df = pd.read_csv('Resources/Female BMI by country.csv')\n",
    "female_df = female_df.rename(columns={'Entity':'Country', 'Mean BMI (female)':'Mean BMI'})\n",
    "female_df = female_df.drop('Code', axis=1)\n",
    "female_df['CountryID'] = female_df['Country'].map(lambda x: convert_c(x))\n",
    "female_df['Weight Status'] = female_df['Mean BMI'].map(lambda x: convert_bmi(x))"
   ]
  },
  {
   "cell_type": "code",
   "execution_count": 16,
   "id": "cd3d1707",
   "metadata": {},
   "outputs": [
    {
     "data": {
      "text/html": [
       "<div>\n",
       "<style scoped>\n",
       "    .dataframe tbody tr th:only-of-type {\n",
       "        vertical-align: middle;\n",
       "    }\n",
       "\n",
       "    .dataframe tbody tr th {\n",
       "        vertical-align: top;\n",
       "    }\n",
       "\n",
       "    .dataframe thead th {\n",
       "        text-align: right;\n",
       "    }\n",
       "</style>\n",
       "<table border=\"1\" class=\"dataframe\">\n",
       "  <thead>\n",
       "    <tr style=\"text-align: right;\">\n",
       "      <th></th>\n",
       "      <th>CountryID</th>\n",
       "      <th>Year</th>\n",
       "      <th>Mean BMI</th>\n",
       "      <th>Weight Status</th>\n",
       "    </tr>\n",
       "  </thead>\n",
       "  <tbody>\n",
       "    <tr>\n",
       "      <th>8425</th>\n",
       "      <td>1</td>\n",
       "      <td>2000</td>\n",
       "      <td>27.581705</td>\n",
       "      <td>Overweight</td>\n",
       "    </tr>\n",
       "    <tr>\n",
       "      <th>8426</th>\n",
       "      <td>1</td>\n",
       "      <td>2001</td>\n",
       "      <td>27.711948</td>\n",
       "      <td>Overweight</td>\n",
       "    </tr>\n",
       "    <tr>\n",
       "      <th>8427</th>\n",
       "      <td>1</td>\n",
       "      <td>2002</td>\n",
       "      <td>27.835578</td>\n",
       "      <td>Overweight</td>\n",
       "    </tr>\n",
       "    <tr>\n",
       "      <th>8428</th>\n",
       "      <td>1</td>\n",
       "      <td>2003</td>\n",
       "      <td>27.951670</td>\n",
       "      <td>Overweight</td>\n",
       "    </tr>\n",
       "    <tr>\n",
       "      <th>8429</th>\n",
       "      <td>1</td>\n",
       "      <td>2004</td>\n",
       "      <td>28.061047</td>\n",
       "      <td>Overweight</td>\n",
       "    </tr>\n",
       "  </tbody>\n",
       "</table>\n",
       "</div>"
      ],
      "text/plain": [
       "     CountryID  Year   Mean BMI Weight Status\n",
       "8425         1  2000  27.581705    Overweight\n",
       "8426         1  2001  27.711948    Overweight\n",
       "8427         1  2002  27.835578    Overweight\n",
       "8428         1  2003  27.951670    Overweight\n",
       "8429         1  2004  28.061047    Overweight"
      ]
     },
     "execution_count": 16,
     "metadata": {},
     "output_type": "execute_result"
    }
   ],
   "source": [
    "#US Female Mean BMI\n",
    "usf_df = female_df.loc[(female_df['Country'] == 'United States') &(female_df['Year'] >= 2000)]\n",
    "usf_df = usf_df[['CountryID', 'Year', 'Mean BMI', 'Weight Status']]\n",
    "usf_df.head()"
   ]
  },
  {
   "cell_type": "code",
   "execution_count": 17,
   "id": "5855c9a4",
   "metadata": {},
   "outputs": [],
   "source": [
    "usf_df.to_csv('BMI&Weight Status CSV/US Female BMI&Weight Status.csv', index = False)"
   ]
  },
  {
   "cell_type": "markdown",
   "id": "36ec3307",
   "metadata": {},
   "source": [
    "Niger (Female)"
   ]
  },
  {
   "cell_type": "code",
   "execution_count": 18,
   "id": "f5dd5299",
   "metadata": {},
   "outputs": [
    {
     "data": {
      "text/html": [
       "<div>\n",
       "<style scoped>\n",
       "    .dataframe tbody tr th:only-of-type {\n",
       "        vertical-align: middle;\n",
       "    }\n",
       "\n",
       "    .dataframe tbody tr th {\n",
       "        vertical-align: top;\n",
       "    }\n",
       "\n",
       "    .dataframe thead th {\n",
       "        text-align: right;\n",
       "    }\n",
       "</style>\n",
       "<table border=\"1\" class=\"dataframe\">\n",
       "  <thead>\n",
       "    <tr style=\"text-align: right;\">\n",
       "      <th></th>\n",
       "      <th>CountryID</th>\n",
       "      <th>Year</th>\n",
       "      <th>Mean BMI</th>\n",
       "      <th>Weight Status</th>\n",
       "    </tr>\n",
       "  </thead>\n",
       "  <tbody>\n",
       "    <tr>\n",
       "      <th>5653</th>\n",
       "      <td>4</td>\n",
       "      <td>2000</td>\n",
       "      <td>21.004409</td>\n",
       "      <td>Healthy Weight</td>\n",
       "    </tr>\n",
       "    <tr>\n",
       "      <th>5654</th>\n",
       "      <td>4</td>\n",
       "      <td>2001</td>\n",
       "      <td>21.110866</td>\n",
       "      <td>Healthy Weight</td>\n",
       "    </tr>\n",
       "    <tr>\n",
       "      <th>5655</th>\n",
       "      <td>4</td>\n",
       "      <td>2002</td>\n",
       "      <td>21.216391</td>\n",
       "      <td>Healthy Weight</td>\n",
       "    </tr>\n",
       "    <tr>\n",
       "      <th>5656</th>\n",
       "      <td>4</td>\n",
       "      <td>2003</td>\n",
       "      <td>21.319841</td>\n",
       "      <td>Healthy Weight</td>\n",
       "    </tr>\n",
       "    <tr>\n",
       "      <th>5657</th>\n",
       "      <td>4</td>\n",
       "      <td>2004</td>\n",
       "      <td>21.419958</td>\n",
       "      <td>Healthy Weight</td>\n",
       "    </tr>\n",
       "  </tbody>\n",
       "</table>\n",
       "</div>"
      ],
      "text/plain": [
       "     CountryID  Year   Mean BMI   Weight Status\n",
       "5653         4  2000  21.004409  Healthy Weight\n",
       "5654         4  2001  21.110866  Healthy Weight\n",
       "5655         4  2002  21.216391  Healthy Weight\n",
       "5656         4  2003  21.319841  Healthy Weight\n",
       "5657         4  2004  21.419958  Healthy Weight"
      ]
     },
     "execution_count": 18,
     "metadata": {},
     "output_type": "execute_result"
    }
   ],
   "source": [
    "#Niger Feale Mean BMI\n",
    "nig_f_df = female_df.loc[(female_df['Country'] == 'Niger') &(female_df['Year'] >= 2000)]\n",
    "nig_f_df = nig_f_df[['CountryID', 'Year', 'Mean BMI', 'Weight Status']]\n",
    "nig_f_df.head()"
   ]
  },
  {
   "cell_type": "code",
   "execution_count": 19,
   "id": "7fdec465",
   "metadata": {},
   "outputs": [],
   "source": [
    "nig_f_df.to_csv('BMI&Weight Status CSV/Niger Female BMI&Weight Status.csv', index = False)"
   ]
  },
  {
   "cell_type": "markdown",
   "id": "75016edd",
   "metadata": {},
   "source": [
    "Central African Republic (Female)"
   ]
  },
  {
   "cell_type": "code",
   "execution_count": 20,
   "id": "37a5220a",
   "metadata": {},
   "outputs": [
    {
     "data": {
      "text/html": [
       "<div>\n",
       "<style scoped>\n",
       "    .dataframe tbody tr th:only-of-type {\n",
       "        vertical-align: middle;\n",
       "    }\n",
       "\n",
       "    .dataframe tbody tr th {\n",
       "        vertical-align: top;\n",
       "    }\n",
       "\n",
       "    .dataframe thead th {\n",
       "        text-align: right;\n",
       "    }\n",
       "</style>\n",
       "<table border=\"1\" class=\"dataframe\">\n",
       "  <thead>\n",
       "    <tr style=\"text-align: right;\">\n",
       "      <th></th>\n",
       "      <th>CountryID</th>\n",
       "      <th>Year</th>\n",
       "      <th>Mean BMI</th>\n",
       "      <th>Weight Status</th>\n",
       "    </tr>\n",
       "  </thead>\n",
       "  <tbody>\n",
       "    <tr>\n",
       "      <th>1453</th>\n",
       "      <td>2</td>\n",
       "      <td>2000</td>\n",
       "      <td>21.950002</td>\n",
       "      <td>Healthy Weight</td>\n",
       "    </tr>\n",
       "    <tr>\n",
       "      <th>1454</th>\n",
       "      <td>2</td>\n",
       "      <td>2001</td>\n",
       "      <td>22.069317</td>\n",
       "      <td>Healthy Weight</td>\n",
       "    </tr>\n",
       "    <tr>\n",
       "      <th>1455</th>\n",
       "      <td>2</td>\n",
       "      <td>2002</td>\n",
       "      <td>22.189228</td>\n",
       "      <td>Healthy Weight</td>\n",
       "    </tr>\n",
       "    <tr>\n",
       "      <th>1456</th>\n",
       "      <td>2</td>\n",
       "      <td>2003</td>\n",
       "      <td>22.308922</td>\n",
       "      <td>Healthy Weight</td>\n",
       "    </tr>\n",
       "    <tr>\n",
       "      <th>1457</th>\n",
       "      <td>2</td>\n",
       "      <td>2004</td>\n",
       "      <td>22.427460</td>\n",
       "      <td>Healthy Weight</td>\n",
       "    </tr>\n",
       "  </tbody>\n",
       "</table>\n",
       "</div>"
      ],
      "text/plain": [
       "     CountryID  Year   Mean BMI   Weight Status\n",
       "1453         2  2000  21.950002  Healthy Weight\n",
       "1454         2  2001  22.069317  Healthy Weight\n",
       "1455         2  2002  22.189228  Healthy Weight\n",
       "1456         2  2003  22.308922  Healthy Weight\n",
       "1457         2  2004  22.427460  Healthy Weight"
      ]
     },
     "execution_count": 20,
     "metadata": {},
     "output_type": "execute_result"
    }
   ],
   "source": [
    "#Central African Republic Female Mean BMI\n",
    "car_f_df = female_df.loc[(female_df['Country'] == 'Central African Republic') &(female_df['Year'] >= 2000)]\n",
    "car_f_df = car_f_df[['CountryID', 'Year', 'Mean BMI', 'Weight Status']]\n",
    "car_f_df.head()"
   ]
  },
  {
   "cell_type": "code",
   "execution_count": 21,
   "id": "5164d23f",
   "metadata": {},
   "outputs": [],
   "source": [
    "car_f_df.to_csv('BMI&Weight Status CSV/CAR Female BMI&Weight Status.csv', index = False)"
   ]
  },
  {
   "cell_type": "markdown",
   "id": "f90625f7",
   "metadata": {},
   "source": [
    "Congo (Female)"
   ]
  },
  {
   "cell_type": "code",
   "execution_count": 22,
   "id": "996f49d4",
   "metadata": {},
   "outputs": [
    {
     "data": {
      "text/html": [
       "<div>\n",
       "<style scoped>\n",
       "    .dataframe tbody tr th:only-of-type {\n",
       "        vertical-align: middle;\n",
       "    }\n",
       "\n",
       "    .dataframe tbody tr th {\n",
       "        vertical-align: top;\n",
       "    }\n",
       "\n",
       "    .dataframe thead th {\n",
       "        text-align: right;\n",
       "    }\n",
       "</style>\n",
       "<table border=\"1\" class=\"dataframe\">\n",
       "  <thead>\n",
       "    <tr style=\"text-align: right;\">\n",
       "      <th></th>\n",
       "      <th>CountryID</th>\n",
       "      <th>Year</th>\n",
       "      <th>Mean BMI</th>\n",
       "      <th>Weight Status</th>\n",
       "    </tr>\n",
       "  </thead>\n",
       "  <tbody>\n",
       "    <tr>\n",
       "      <th>1789</th>\n",
       "      <td>3</td>\n",
       "      <td>2000</td>\n",
       "      <td>22.761341</td>\n",
       "      <td>Healthy Weight</td>\n",
       "    </tr>\n",
       "    <tr>\n",
       "      <th>1790</th>\n",
       "      <td>3</td>\n",
       "      <td>2001</td>\n",
       "      <td>22.871919</td>\n",
       "      <td>Healthy Weight</td>\n",
       "    </tr>\n",
       "    <tr>\n",
       "      <th>1791</th>\n",
       "      <td>3</td>\n",
       "      <td>2002</td>\n",
       "      <td>22.980824</td>\n",
       "      <td>Healthy Weight</td>\n",
       "    </tr>\n",
       "    <tr>\n",
       "      <th>1792</th>\n",
       "      <td>3</td>\n",
       "      <td>2003</td>\n",
       "      <td>23.087782</td>\n",
       "      <td>Healthy Weight</td>\n",
       "    </tr>\n",
       "    <tr>\n",
       "      <th>1793</th>\n",
       "      <td>3</td>\n",
       "      <td>2004</td>\n",
       "      <td>23.191697</td>\n",
       "      <td>Healthy Weight</td>\n",
       "    </tr>\n",
       "  </tbody>\n",
       "</table>\n",
       "</div>"
      ],
      "text/plain": [
       "     CountryID  Year   Mean BMI   Weight Status\n",
       "1789         3  2000  22.761341  Healthy Weight\n",
       "1790         3  2001  22.871919  Healthy Weight\n",
       "1791         3  2002  22.980824  Healthy Weight\n",
       "1792         3  2003  23.087782  Healthy Weight\n",
       "1793         3  2004  23.191697  Healthy Weight"
      ]
     },
     "execution_count": 22,
     "metadata": {},
     "output_type": "execute_result"
    }
   ],
   "source": [
    "#Congo Feale Mean BMI\n",
    "con_f_df = female_df.loc[(female_df['Country'] == 'Congo') &(female_df['Year'] >= 2000)]\n",
    "con_f_df = con_f_df[['CountryID', 'Year', 'Mean BMI', 'Weight Status']]\n",
    "con_f_df.head()"
   ]
  },
  {
   "cell_type": "code",
   "execution_count": 23,
   "id": "2cfdb02c",
   "metadata": {},
   "outputs": [],
   "source": [
    "con_f_df.to_csv('BMI&Weight Status CSV/Congo Female BMI&Weight Status.csv', index = False)"
   ]
  }
 ],
 "metadata": {
  "kernelspec": {
   "display_name": "Python 3 (ipykernel)",
   "language": "python",
   "name": "python3"
  },
  "language_info": {
   "codemirror_mode": {
    "name": "ipython",
    "version": 3
   },
   "file_extension": ".py",
   "mimetype": "text/x-python",
   "name": "python",
   "nbconvert_exporter": "python",
   "pygments_lexer": "ipython3",
   "version": "3.9.12"
  }
 },
 "nbformat": 4,
 "nbformat_minor": 5
}
